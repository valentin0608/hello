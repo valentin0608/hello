{
 "cells": [
  {
   "cell_type": "code",
   "execution_count": 2,
   "id": "eedee484-657c-4022-a0cd-6bc363f3e5b1",
   "metadata": {},
   "outputs": [
    {
     "name": "stdout",
     "output_type": "stream",
     "text": [
      "Requirement already satisfied: SnowNLP in c:\\users\\user\\anaconda3\\lib\\site-packages (0.12.3)\n"
     ]
    }
   ],
   "source": [
    "! pip install SnowNLP"
   ]
  },
  {
   "cell_type": "code",
   "execution_count": 8,
   "id": "ec0e22db-bc3c-46ae-8ccd-0f4c2b987067",
   "metadata": {},
   "outputs": [],
   "source": [
    "from snownlp import SnowNLP\n",
    "text=u\"我今天很快樂。我今天很憤怒。\""
   ]
  },
  {
   "cell_type": "code",
   "execution_count": 10,
   "id": "40d983dd-80b8-472d-adc7-4b8ab94c6538",
   "metadata": {},
   "outputs": [
    {
     "name": "stdout",
     "output_type": "stream",
     "text": [
      "我今天很快樂\n",
      "我今天很憤怒\n"
     ]
    }
   ],
   "source": [
    "s=SnowNLP(text)\n",
    "for sentence in s.sentences:\n",
    "    print(sentence)"
   ]
  },
  {
   "cell_type": "code",
   "execution_count": 12,
   "id": "cfc78aad-26a1-4eee-a53b-7b2581723c73",
   "metadata": {},
   "outputs": [
    {
     "data": {
      "text/plain": [
       "0.9268071116367116"
      ]
     },
     "execution_count": 12,
     "metadata": {},
     "output_type": "execute_result"
    }
   ],
   "source": [
    "s1=SnowNLP(s.sentences[0])\n",
    "s1.sentiments"
   ]
  },
  {
   "cell_type": "code",
   "execution_count": 14,
   "id": "ec350c25-5f71-47d2-af5d-b89cf74f96b8",
   "metadata": {},
   "outputs": [
    {
     "data": {
      "text/plain": [
       "0.1702660762575916"
      ]
     },
     "execution_count": 14,
     "metadata": {},
     "output_type": "execute_result"
    }
   ],
   "source": [
    "s1=SnowNLP(s.sentences[1])\n",
    "s1.sentiments"
   ]
  }
 ],
 "metadata": {
  "kernelspec": {
   "display_name": "Python 3 (ipykernel)",
   "language": "python",
   "name": "python3"
  },
  "language_info": {
   "codemirror_mode": {
    "name": "ipython",
    "version": 3
   },
   "file_extension": ".py",
   "mimetype": "text/x-python",
   "name": "python",
   "nbconvert_exporter": "python",
   "pygments_lexer": "ipython3",
   "version": "3.9.7"
  }
 },
 "nbformat": 4,
 "nbformat_minor": 5
}
