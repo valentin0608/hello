{
 "cells": [
  {
   "cell_type": "code",
   "execution_count": 1,
   "id": "29fa78e1",
   "metadata": {},
   "outputs": [],
   "source": [
    "import cv2\n",
    "import mediapipe as mp\n",
    "import time"
   ]
  },
  {
   "cell_type": "code",
   "execution_count": 2,
   "id": "6eb08c15",
   "metadata": {},
   "outputs": [],
   "source": [
    "mpDraw = mp.solutions.drawing_utils\n",
    "mpPose = mp.solutions.pose\n",
    "pose = mpPose.Pose()\n",
    "cap =cv2.VideoCapture('C:/Users/user/Downloads/opera guy.MOV')\n",
    "pT = 0 "
   ]
  },
  {
   "cell_type": "code",
   "execution_count": null,
   "id": "ab36d20f",
   "metadata": {},
   "outputs": [],
   "source": [
    "while True:\n",
    "   success, img = cap.read()\n",
    "   imgRGB=cv2.cvtColor(img, cv2.COLOR_BGR2RGB)\n",
    "   results = pose.process(imgRGB)\n",
    "   #print(results.pose_landmarks)\n",
    "   if results.pose_landmarks:\n",
    "       mpDraw.draw_landmarks(img,results.pose_landmarks,mpPose.POSE_CONNECTIONS )\n",
    "       for id,lm in enumerate(results.pose_landmarks.landmark):\n",
    "           h,w,c=img.shape\n",
    "           cx, cy =int(lm.x*w),int(lm.y*h)\n",
    "           cv2.circle(img,(cx,cy),5,(255,0,0),cv2.FILLED)\n",
    "           #print(id, cx, cy)\n",
    "   cT =time.time()\n",
    "   fps = 1/(cT-pT)\n",
    "   pT = cT\n",
    "   cv2.putText(img, str(int(fps)),(10,70),cv2.FONT_HERSHEY_PLAIN,3,(255,0,255),3)\n",
    "   cv2.imshow(\"Image\",img)\n",
    "   cv2.waitKey()"
   ]
  },
  {
   "cell_type": "code",
   "execution_count": null,
   "id": "8995efc2",
   "metadata": {},
   "outputs": [],
   "source": []
  }
 ],
 "metadata": {
  "kernelspec": {
   "display_name": "Python 3 (ipykernel)",
   "language": "python",
   "name": "python3"
  },
  "language_info": {
   "codemirror_mode": {
    "name": "ipython",
    "version": 3
   },
   "file_extension": ".py",
   "mimetype": "text/x-python",
   "name": "python",
   "nbconvert_exporter": "python",
   "pygments_lexer": "ipython3",
   "version": "3.9.7"
  }
 },
 "nbformat": 4,
 "nbformat_minor": 5
}
