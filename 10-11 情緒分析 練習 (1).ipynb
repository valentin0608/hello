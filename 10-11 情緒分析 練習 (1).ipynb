{
 "cells": [
  {
   "cell_type": "code",
   "execution_count": 1,
   "id": "c6736ecf-941c-4844-ba94-bc8139fe6b02",
   "metadata": {},
   "outputs": [
    {
     "name": "stdout",
     "output_type": "stream",
     "text": [
      "Collecting TextBlob\n",
      "  Downloading textblob-0.18.0.post0-py3-none-any.whl.metadata (4.5 kB)\n",
      "Requirement already satisfied: nltk>=3.8 in c:\\users\\user\\anaconda3\\lib\\site-packages (from TextBlob) (3.8.1)\n",
      "Requirement already satisfied: click in c:\\users\\user\\anaconda3\\lib\\site-packages (from nltk>=3.8->TextBlob) (8.1.7)\n",
      "Requirement already satisfied: joblib in c:\\users\\user\\anaconda3\\lib\\site-packages (from nltk>=3.8->TextBlob) (1.4.2)\n",
      "Requirement already satisfied: regex>=2021.8.3 in c:\\users\\user\\anaconda3\\lib\\site-packages (from nltk>=3.8->TextBlob) (2023.10.3)\n",
      "Requirement already satisfied: tqdm in c:\\users\\user\\anaconda3\\lib\\site-packages (from nltk>=3.8->TextBlob) (4.66.4)\n",
      "Requirement already satisfied: colorama in c:\\users\\user\\anaconda3\\lib\\site-packages (from click->nltk>=3.8->TextBlob) (0.4.6)\n",
      "Downloading textblob-0.18.0.post0-py3-none-any.whl (626 kB)\n",
      "   ---------------------------------------- 0.0/626.3 kB ? eta -:--:--\n",
      "   - -------------------------------------- 30.7/626.3 kB ? eta -:--:--\n",
      "   - -------------------------------------- 30.7/626.3 kB ? eta -:--:--\n",
      "   --- ----------------------------------- 61.4/626.3 kB 363.1 kB/s eta 0:00:02\n",
      "   ----- --------------------------------- 92.2/626.3 kB 476.3 kB/s eta 0:00:02\n",
      "   ----- --------------------------------- 92.2/626.3 kB 476.3 kB/s eta 0:00:02\n",
      "   --------- ---------------------------- 163.8/626.3 kB 546.6 kB/s eta 0:00:01\n",
      "   ----------- -------------------------- 194.6/626.3 kB 535.8 kB/s eta 0:00:01\n",
      "   ------------ ------------------------- 204.8/626.3 kB 518.8 kB/s eta 0:00:01\n",
      "   -------------- ----------------------- 235.5/626.3 kB 497.3 kB/s eta 0:00:01\n",
      "   --------------- ---------------------- 256.0/626.3 kB 476.3 kB/s eta 0:00:01\n",
      "   ----------------- -------------------- 286.7/626.3 kB 505.4 kB/s eta 0:00:01\n",
      "   ------------------- ------------------ 317.4/626.3 kB 504.4 kB/s eta 0:00:01\n",
      "   --------------------- ---------------- 358.4/626.3 kB 530.7 kB/s eta 0:00:01\n",
      "   ---------------------- --------------- 368.6/626.3 kB 520.9 kB/s eta 0:00:01\n",
      "   ---------------------------- --------- 471.0/626.3 kB 590.0 kB/s eta 0:00:01\n",
      "   ------------------------------ ------- 501.8/626.3 kB 593.6 kB/s eta 0:00:01\n",
      "   ------------------------------- ------ 522.2/626.3 kB 585.1 kB/s eta 0:00:01\n",
      "   --------------------------------- ---- 553.0/626.3 kB 588.6 kB/s eta 0:00:01\n",
      "   ---------------------------------- --- 563.2/626.3 kB 589.5 kB/s eta 0:00:01\n",
      "   -------------------------------------  624.6/626.3 kB 614.4 kB/s eta 0:00:01\n",
      "   -------------------------------------- 626.3/626.3 kB 597.6 kB/s eta 0:00:00\n",
      "Installing collected packages: TextBlob\n",
      "Successfully installed TextBlob-0.18.0.post0\n"
     ]
    }
   ],
   "source": [
    "!pip install TextBlob"
   ]
  },
  {
   "cell_type": "code",
   "execution_count": 3,
   "id": "d71bb9ff-c2a4-4240-9d5e-5482aba819be",
   "metadata": {},
   "outputs": [
    {
     "name": "stderr",
     "output_type": "stream",
     "text": [
      "[nltk_data] Downloading package punkt to\n",
      "[nltk_data]     C:\\Users\\user\\AppData\\Roaming\\nltk_data...\n",
      "[nltk_data]   Unzipping tokenizers\\punkt.zip.\n"
     ]
    },
    {
     "data": {
      "text/plain": [
       "True"
      ]
     },
     "execution_count": 3,
     "metadata": {},
     "output_type": "execute_result"
    }
   ],
   "source": [
    "from textblob import TextBlob\n",
    "import nltk\n",
    "nltk.download('punkt')"
   ]
  },
  {
   "cell_type": "code",
   "execution_count": 5,
   "id": "c0913dda-a5aa-4b42-811c-adafd71b5c50",
   "metadata": {},
   "outputs": [],
   "source": [
    "text = \"I am happy today. I feel sad today.\"\n"
   ]
  },
  {
   "cell_type": "code",
   "execution_count": 7,
   "id": "2c6561a7-49e3-4dda-b1f7-36fa4e13323e",
   "metadata": {},
   "outputs": [
    {
     "data": {
      "text/plain": [
       "TextBlob(\"I am happy today. I feel sad today.\")"
      ]
     },
     "execution_count": 7,
     "metadata": {},
     "output_type": "execute_result"
    }
   ],
   "source": [
    "blob = TextBlob(text)\n",
    "blob"
   ]
  },
  {
   "cell_type": "code",
   "execution_count": 9,
   "id": "52655c75-4718-4eff-a593-e9eacc41cb75",
   "metadata": {},
   "outputs": [
    {
     "data": {
      "text/plain": [
       "[Sentence(\"I am happy today.\"), Sentence(\"I feel sad today.\")]"
      ]
     },
     "execution_count": 9,
     "metadata": {},
     "output_type": "execute_result"
    }
   ],
   "source": [
    "blob.sentences"
   ]
  },
  {
   "cell_type": "code",
   "execution_count": 11,
   "id": "572be99f-e12f-4b84-a3c2-d7d617c145da",
   "metadata": {},
   "outputs": [
    {
     "data": {
      "text/plain": [
       "Sentiment(polarity=0.8, subjectivity=1.0)"
      ]
     },
     "execution_count": 11,
     "metadata": {},
     "output_type": "execute_result"
    }
   ],
   "source": [
    "blob.sentences[0].sentiment\n"
   ]
  },
  {
   "cell_type": "code",
   "execution_count": 13,
   "id": "1a1ec65c-82ff-47a1-8b2a-a94db3f04a69",
   "metadata": {},
   "outputs": [
    {
     "data": {
      "text/plain": [
       "Sentiment(polarity=-0.5, subjectivity=1.0)"
      ]
     },
     "execution_count": 13,
     "metadata": {},
     "output_type": "execute_result"
    }
   ],
   "source": [
    "blob.sentences[1].sentiment\n"
   ]
  }
 ],
 "metadata": {
  "kernelspec": {
   "display_name": "Python 3 (ipykernel)",
   "language": "python",
   "name": "python3"
  },
  "language_info": {
   "codemirror_mode": {
    "name": "ipython",
    "version": 3
   },
   "file_extension": ".py",
   "mimetype": "text/x-python",
   "name": "python",
   "nbconvert_exporter": "python",
   "pygments_lexer": "ipython3",
   "version": "3.9.7"
  }
 },
 "nbformat": 4,
 "nbformat_minor": 5
}
