{
 "cells": [
  {
   "cell_type": "code",
   "execution_count": 1,
   "id": "9388b3fb",
   "metadata": {},
   "outputs": [
    {
     "name": "stdout",
     "output_type": "stream",
     "text": [
      "Requirement already satisfied: opencv-contrib-python in c:\\users\\user\\appdata\\local\\programs\\python\\python39\\lib\\site-packages (4.10.0.84)\n",
      "Requirement already satisfied: numpy>=1.17.0 in c:\\users\\user\\appdata\\local\\programs\\python\\python39\\lib\\site-packages (from opencv-contrib-python) (1.26.4)\n",
      "Note: you may need to restart the kernel to use updated packages.\n"
     ]
    }
   ],
   "source": [
    "pip install opencv-contrib-python"
   ]
  },
  {
   "cell_type": "code",
   "execution_count": 2,
   "id": "1a8af579",
   "metadata": {},
   "outputs": [
    {
     "name": "stdout",
     "output_type": "stream",
     "text": [
      "Requirement already satisfied: imutils in c:\\users\\user\\appdata\\local\\programs\\python\\python39\\lib\\site-packages (0.5.4)\n",
      "Note: you may need to restart the kernel to use updated packages.\n"
     ]
    }
   ],
   "source": [
    "pip install imutils"
   ]
  },
  {
   "cell_type": "code",
   "execution_count": 3,
   "id": "a4936e13",
   "metadata": {},
   "outputs": [],
   "source": [
    "import cv2"
   ]
  },
  {
   "cell_type": "code",
   "execution_count": 4,
   "id": "63815251",
   "metadata": {},
   "outputs": [],
   "source": [
    "import numpy as np"
   ]
  },
  {
   "cell_type": "code",
   "execution_count": 5,
   "id": "cc5d9cf8",
   "metadata": {},
   "outputs": [],
   "source": [
    "import imutils"
   ]
  },
  {
   "cell_type": "code",
   "execution_count": 6,
   "id": "a285c62e",
   "metadata": {},
   "outputs": [
    {
     "name": "stdout",
     "output_type": "stream",
     "text": [
      "Requirement already satisfied: pytesseract in c:\\users\\user\\anaconda3\\lib\\site-packages (0.3.13)\n",
      "Requirement already satisfied: packaging>=21.3 in c:\\users\\user\\anaconda3\\lib\\site-packages (from pytesseract) (24.2)\n",
      "Requirement already satisfied: Pillow>=8.0.0 in c:\\users\\user\\anaconda3\\lib\\site-packages (from pytesseract) (8.4.0)\n"
     ]
    }
   ],
   "source": [
    "!pip install pytesseract"
   ]
  },
  {
   "cell_type": "code",
   "execution_count": 7,
   "id": "6ec2d3a6",
   "metadata": {},
   "outputs": [],
   "source": [
    "import pytesseract"
   ]
  },
  {
   "cell_type": "code",
   "execution_count": 8,
   "id": "176d9c3f",
   "metadata": {},
   "outputs": [
    {
     "name": "stdout",
     "output_type": "stream",
     "text": [
      "C:\\Users\\user\\AppData\\Local\\Programs\\Python\\Python39\\python.exe\n"
     ]
    }
   ],
   "source": [
    "import sys\n",
    "print(sys.executable)"
   ]
  },
  {
   "cell_type": "code",
   "execution_count": 9,
   "id": "25a49ca0",
   "metadata": {},
   "outputs": [
    {
     "name": "stdout",
     "output_type": "stream",
     "text": [
      "Requirement already satisfied: pytesseract in c:\\users\\user\\appdata\\local\\programs\\python\\python39\\lib\\site-packages (0.3.13)\n",
      "Requirement already satisfied: packaging>=21.3 in c:\\users\\user\\appdata\\local\\programs\\python\\python39\\lib\\site-packages (from pytesseract) (24.2)\n",
      "Requirement already satisfied: Pillow>=8.0.0 in c:\\users\\user\\appdata\\local\\programs\\python\\python39\\lib\\site-packages (from pytesseract) (11.0.0)\n"
     ]
    }
   ],
   "source": [
    "import sys\n",
    "!{sys.executable} -m pip install pytesseract"
   ]
  },
  {
   "cell_type": "code",
   "execution_count": 10,
   "id": "e5b20e19",
   "metadata": {},
   "outputs": [],
   "source": [
    "from PIL import Image"
   ]
  },
  {
   "cell_type": "code",
   "execution_count": 11,
   "id": "0023ebd7",
   "metadata": {},
   "outputs": [],
   "source": [
    "pytesseract.pytesseract.tesseract_cmd = 'C:\\\\Program Files\\\\Tesseract-OCR\\\\tesseract.exe'"
   ]
  },
  {
   "cell_type": "code",
   "execution_count": 12,
   "id": "9d66de96",
   "metadata": {},
   "outputs": [],
   "source": [
    "img = cv2.imread('C:/picture/4.jpg', cv2.IMREAD_COLOR)"
   ]
  },
  {
   "cell_type": "code",
   "execution_count": 13,
   "id": "83a7601d",
   "metadata": {
    "scrolled": true
   },
   "outputs": [],
   "source": [
    "img = imutils.resize(img, width=500 )"
   ]
  },
  {
   "cell_type": "code",
   "execution_count": 14,
   "id": "3a790e8b",
   "metadata": {},
   "outputs": [],
   "source": [
    "gray = cv2.cvtColor(img, cv2.COLOR_BGR2GRAY) #convert to grey scale"
   ]
  },
  {
   "cell_type": "code",
   "execution_count": 15,
   "id": "942060a6",
   "metadata": {},
   "outputs": [],
   "source": [
    "gray = cv2.bilateralFilter(gray, 11, 17, 17) #Blur to reduce noise"
   ]
  },
  {
   "cell_type": "code",
   "execution_count": 16,
   "id": "c2044a5b",
   "metadata": {},
   "outputs": [],
   "source": [
    "edged = cv2.Canny(gray, 30, 200) #Perform Edge detection"
   ]
  },
  {
   "cell_type": "code",
   "execution_count": 17,
   "id": "c3637fc1",
   "metadata": {},
   "outputs": [],
   "source": [
    "cnts,new = cv2.findContours(edged.copy(), cv2.RETR_LIST, cv2.CHAIN_APPROX_SIMPLE)"
   ]
  },
  {
   "cell_type": "code",
   "execution_count": 18,
   "id": "6901f5b0",
   "metadata": {},
   "outputs": [
    {
     "data": {
      "text/plain": [
       "48"
      ]
     },
     "execution_count": 18,
     "metadata": {},
     "output_type": "execute_result"
    }
   ],
   "source": [
    "img1=img.copy()\n",
    "cv2.drawContours(img1,cnts,-1,(0,255,0),3)\n",
    "cv2.imshow(\"img1\",img1)\n",
    "cv2.waitKey(0)\n"
   ]
  },
  {
   "cell_type": "code",
   "execution_count": 19,
   "id": "d94d31ba",
   "metadata": {},
   "outputs": [],
   "source": [
    "#sorts contours based on minimum area 30 and ignores the ones below that\n",
    "cnts = sorted(cnts, key = cv2.contourArea, reverse = True)[:30]\n",
    "screenCnt = None #will store the number plate contour\n",
    "img2 = img.copy()\n",
    "cv2.drawContours(img2,cnts,-1,(0,255,0),3) \n",
    "cv2.imshow(\"img2\",img2) #top 30 contours\n",
    "cv2.waitKey(0)\n",
    "count=0"
   ]
  },
  {
   "cell_type": "code",
   "execution_count": 20,
   "id": "e91de1a4",
   "metadata": {},
   "outputs": [],
   "source": [
    "idx=7\n",
    "# loop over contours\n",
    "for c in cnts:\n",
    "  # approximate the contour\n",
    "        peri = cv2.arcLength(c, True)\n",
    "        approx = cv2.approxPolyDP(c, 0.018 * peri, True)\n",
    "        if len(approx) == 4: #chooses contours with 4 corners\n",
    "                screenCnt = approx\n",
    "                x,y,w,h = cv2.boundingRect(c) #finds co-ordinates of the plate\n",
    "                new_img=img[y:y+h,x:x+w]\n",
    "                cv2.imwrite('./'+str(idx)+'.png',new_img) #stores the new image\n",
    "                idx+=1\n",
    "                break"
   ]
  },
  {
   "cell_type": "code",
   "execution_count": 21,
   "id": "aba12706",
   "metadata": {},
   "outputs": [
    {
     "name": "stdout",
     "output_type": "stream",
     "text": [
      "Number is: HR 26 DA 2330\n",
      "\n"
     ]
    }
   ],
   "source": [
    "#draws the selected contour on original image        \n",
    "cv2.drawContours(img, [screenCnt], -1, (0, 255, 0), 3)\n",
    "cv2.imshow(\"Final image with plate detected\",img)\n",
    "cv2.waitKey(0)\n",
    "Cropped_loc='./7.png' #the filename of cropped image\n",
    "cv2.imshow(\"cropped\",cv2.imread(Cropped_loc)) \n",
    "text=pytesseract.image_to_string(Cropped_loc,lang='eng') #converts image characters to string\n",
    "print(\"Number is:\" ,text)\n",
    "\n",
    "cv2.waitKey(0)\n",
    "cv2.destroyAllWindows() "
   ]
  }
 ],
 "metadata": {
  "kernelspec": {
   "display_name": "Python 3 (ipykernel)",
   "language": "python",
   "name": "python3"
  },
  "language_info": {
   "codemirror_mode": {
    "name": "ipython",
    "version": 3
   },
   "file_extension": ".py",
   "mimetype": "text/x-python",
   "name": "python",
   "nbconvert_exporter": "python",
   "pygments_lexer": "ipython3",
   "version": "3.9.7"
  }
 },
 "nbformat": 4,
 "nbformat_minor": 5
}
