{
 "cells": [
  {
   "cell_type": "code",
   "execution_count": 1,
   "id": "7ab12c98-0f00-496b-9a73-19cec7e2bba3",
   "metadata": {},
   "outputs": [
    {
     "name": "stdin",
     "output_type": "stream",
     "text": [
      "請輸入淨年所得額: 100000\n"
     ]
    },
    {
     "name": "stdout",
     "output_type": "stream",
     "text": [
      "應繳稅額= 5000.0\n"
     ]
    }
   ],
   "source": [
    "level1=540000*0.05\n",
    "level2=(1210000-540000)*0.12\n",
    "level3=(2420000-1210000)*0.2\n",
    "level4=(4530000-2420000)*0.3\n",
    "income=int(input('請輸入淨年所得額:'))\n",
    "if income<=540000:\n",
    "    tax=income*0.05\n",
    "elif income<=1210000:\n",
    "    tax=level1+((income-540000)*0.12)\n",
    "elif income<=2420000:\n",
    "    tax=level1+level2+((income-1210000)*0.2)\n",
    "elif income<=4530000:\n",
    "    tax=level1+level2+level3+((income-2420000)*0.3)\n",
    "else:\n",
    "    tax=ievel1+level2+level3+level4+((income-4530000)*0.4)\n",
    "print('應繳稅額=',tax)"
   ]
  },
  {
   "cell_type": "code",
   "execution_count": 3,
   "id": "500caf33-ebbe-4163-a999-241a7410511e",
   "metadata": {},
   "outputs": [
    {
     "name": "stdout",
     "output_type": "stream",
     "text": [
      "0.29943976718048754\n"
     ]
    }
   ],
   "source": [
    "import sympy as sp\n",
    "x=sp.Symbol('x')\n",
    "sp.integrate(sp.sin(3*x),x)\n",
    "from scipy.integrate import quad\n",
    "import numpy as np\n",
    "def f(x):\n",
    "    return np.exp(-x)*np.sin(3*x)\n",
    "i=quad(f,0,2*np.pi)\n",
    "print(i[0])"
   ]
  },
  {
   "cell_type": "code",
   "execution_count": 5,
   "id": "74f38d56-e80d-4d31-8d12-ee0d123c02b2",
   "metadata": {},
   "outputs": [
    {
     "name": "stdout",
     "output_type": "stream",
     "text": [
      "[[ 1 -2 -1]\n",
      " [ 2  2 -1]\n",
      " [-1 -1  2]]\n",
      "[ 3. -2.  1.]\n"
     ]
    }
   ],
   "source": [
    "import numpy as np\n",
    "A=np.array([[1,-2,-1],[2,2,-1],[-1,-1,2]])\n",
    "print(A)\n",
    "B=np.array([6,1,1])\n",
    "H=np.linalg.solve(A,B)\n",
    "print(H)"
   ]
  },
  {
   "cell_type": "code",
   "execution_count": 2,
   "id": "f152bb27-8094-4f5e-a0b6-cc7aa1189cca",
   "metadata": {},
   "outputs": [
    {
     "name": "stdout",
     "output_type": "stream",
     "text": [
      "C:\\Users\\user\n"
     ]
    }
   ],
   "source": [
    "import os\n",
    "print(os.getcwd())  # 顯示當前工作目錄"
   ]
  },
  {
   "cell_type": "code",
   "execution_count": null,
   "id": "ef87b260-6035-4664-87ab-9db7bdd484db",
   "metadata": {},
   "outputs": [],
   "source": []
  }
 ],
 "metadata": {
  "kernelspec": {
   "display_name": "Python 3 (ipykernel)",
   "language": "python",
   "name": "python3"
  },
  "language_info": {
   "codemirror_mode": {
    "name": "ipython",
    "version": 3
   },
   "file_extension": ".py",
   "mimetype": "text/x-python",
   "name": "python",
   "nbconvert_exporter": "python",
   "pygments_lexer": "ipython3",
   "version": "3.9.7"
  }
 },
 "nbformat": 4,
 "nbformat_minor": 5
}
