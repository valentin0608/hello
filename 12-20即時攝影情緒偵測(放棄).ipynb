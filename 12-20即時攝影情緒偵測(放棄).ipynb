{
 "cells": [
  {
   "cell_type": "code",
   "execution_count": 1,
   "id": "8ee2d202",
   "metadata": {
    "scrolled": true
   },
   "outputs": [
    {
     "name": "stdout",
     "output_type": "stream",
     "text": [
      "Requirement already satisfied: opencv-python in c:\\users\\user\\anaconda3\\lib\\site-packages (4.10.0.84)\n",
      "Requirement already satisfied: numpy>=1.17.0 in c:\\users\\user\\anaconda3\\lib\\site-packages (from opencv-python) (1.26.4)\n",
      "Requirement already satisfied: tensorflow in c:\\users\\user\\anaconda3\\lib\\site-packages (2.10.0)\n",
      "Requirement already satisfied: absl-py>=1.0.0 in c:\\users\\user\\anaconda3\\lib\\site-packages (from tensorflow) (2.1.0)\n",
      "Requirement already satisfied: astunparse>=1.6.0 in c:\\users\\user\\anaconda3\\lib\\site-packages (from tensorflow) (1.6.3)\n",
      "Requirement already satisfied: flatbuffers>=2.0 in c:\\users\\user\\anaconda3\\lib\\site-packages (from tensorflow) (24.3.25)\n",
      "Requirement already satisfied: gast<=0.4.0,>=0.2.1 in c:\\users\\user\\anaconda3\\lib\\site-packages (from tensorflow) (0.4.0)\n",
      "Requirement already satisfied: google-pasta>=0.1.1 in c:\\users\\user\\anaconda3\\lib\\site-packages (from tensorflow) (0.2.0)\n",
      "Requirement already satisfied: h5py>=2.9.0 in c:\\users\\user\\anaconda3\\lib\\site-packages (from tensorflow) (3.12.1)\n",
      "Requirement already satisfied: keras-preprocessing>=1.1.1 in c:\\users\\user\\anaconda3\\lib\\site-packages (from tensorflow) (1.1.2)\n",
      "Requirement already satisfied: libclang>=13.0.0 in c:\\users\\user\\anaconda3\\lib\\site-packages (from tensorflow) (18.1.1)\n",
      "Requirement already satisfied: numpy>=1.20 in c:\\users\\user\\anaconda3\\lib\\site-packages (from tensorflow) (1.26.4)\n",
      "Requirement already satisfied: opt-einsum>=2.3.2 in c:\\users\\user\\anaconda3\\lib\\site-packages (from tensorflow) (3.4.0)\n",
      "Requirement already satisfied: packaging in c:\\users\\user\\anaconda3\\lib\\site-packages (from tensorflow) (24.2)\n",
      "Requirement already satisfied: protobuf<3.20,>=3.9.2 in c:\\users\\user\\anaconda3\\lib\\site-packages (from tensorflow) (3.19.6)\n",
      "Requirement already satisfied: setuptools in c:\\users\\user\\anaconda3\\lib\\site-packages (from tensorflow) (75.6.0)\n",
      "Requirement already satisfied: six>=1.12.0 in c:\\users\\user\\anaconda3\\lib\\site-packages (from tensorflow) (1.16.0)\n",
      "Requirement already satisfied: termcolor>=1.1.0 in c:\\users\\user\\anaconda3\\lib\\site-packages (from tensorflow) (2.5.0)\n",
      "Requirement already satisfied: typing-extensions>=3.6.6 in c:\\users\\user\\anaconda3\\lib\\site-packages (from tensorflow) (4.12.2)\n",
      "Requirement already satisfied: wrapt>=1.11.0 in c:\\users\\user\\anaconda3\\lib\\site-packages (from tensorflow) (1.12.1)\n",
      "Requirement already satisfied: tensorflow-io-gcs-filesystem>=0.23.1 in c:\\users\\user\\anaconda3\\lib\\site-packages (from tensorflow) (0.31.0)\n",
      "Requirement already satisfied: grpcio<2.0,>=1.24.3 in c:\\users\\user\\anaconda3\\lib\\site-packages (from tensorflow) (1.68.1)\n",
      "Requirement already satisfied: tensorboard<2.11,>=2.10 in c:\\users\\user\\anaconda3\\lib\\site-packages (from tensorflow) (2.10.1)\n",
      "Requirement already satisfied: tensorflow-estimator<2.11,>=2.10.0 in c:\\users\\user\\anaconda3\\lib\\site-packages (from tensorflow) (2.10.0)\n",
      "Requirement already satisfied: keras<2.11,>=2.10.0 in c:\\users\\user\\anaconda3\\lib\\site-packages (from tensorflow) (2.10.0)\n",
      "Requirement already satisfied: wheel<1.0,>=0.23.0 in c:\\users\\user\\anaconda3\\lib\\site-packages (from astunparse>=1.6.0->tensorflow) (0.45.1)\n",
      "Requirement already satisfied: google-auth<3,>=1.6.3 in c:\\users\\user\\anaconda3\\lib\\site-packages (from tensorboard<2.11,>=2.10->tensorflow) (2.37.0)\n",
      "Requirement already satisfied: google-auth-oauthlib<0.5,>=0.4.1 in c:\\users\\user\\anaconda3\\lib\\site-packages (from tensorboard<2.11,>=2.10->tensorflow) (0.4.6)\n",
      "Requirement already satisfied: markdown>=2.6.8 in c:\\users\\user\\anaconda3\\lib\\site-packages (from tensorboard<2.11,>=2.10->tensorflow) (3.7)\n",
      "Requirement already satisfied: requests<3,>=2.21.0 in c:\\users\\user\\anaconda3\\lib\\site-packages (from tensorboard<2.11,>=2.10->tensorflow) (2.26.0)\n",
      "Requirement already satisfied: tensorboard-data-server<0.7.0,>=0.6.0 in c:\\users\\user\\anaconda3\\lib\\site-packages (from tensorboard<2.11,>=2.10->tensorflow) (0.6.1)\n",
      "Requirement already satisfied: tensorboard-plugin-wit>=1.6.0 in c:\\users\\user\\anaconda3\\lib\\site-packages (from tensorboard<2.11,>=2.10->tensorflow) (1.8.1)\n",
      "Requirement already satisfied: werkzeug>=1.0.1 in c:\\users\\user\\anaconda3\\lib\\site-packages (from tensorboard<2.11,>=2.10->tensorflow) (2.0.2)\n",
      "Requirement already satisfied: cachetools<6.0,>=2.0.0 in c:\\users\\user\\anaconda3\\lib\\site-packages (from google-auth<3,>=1.6.3->tensorboard<2.11,>=2.10->tensorflow) (5.5.0)\n",
      "Requirement already satisfied: pyasn1-modules>=0.2.1 in c:\\users\\user\\anaconda3\\lib\\site-packages (from google-auth<3,>=1.6.3->tensorboard<2.11,>=2.10->tensorflow) (0.4.1)\n",
      "Requirement already satisfied: rsa<5,>=3.1.4 in c:\\users\\user\\anaconda3\\lib\\site-packages (from google-auth<3,>=1.6.3->tensorboard<2.11,>=2.10->tensorflow) (4.9)\n",
      "Requirement already satisfied: requests-oauthlib>=0.7.0 in c:\\users\\user\\anaconda3\\lib\\site-packages (from google-auth-oauthlib<0.5,>=0.4.1->tensorboard<2.11,>=2.10->tensorflow) (2.0.0)\n",
      "Requirement already satisfied: importlib-metadata>=4.4 in c:\\users\\user\\anaconda3\\lib\\site-packages (from markdown>=2.6.8->tensorboard<2.11,>=2.10->tensorflow) (4.8.1)\n",
      "Requirement already satisfied: urllib3<1.27,>=1.21.1 in c:\\users\\user\\anaconda3\\lib\\site-packages (from requests<3,>=2.21.0->tensorboard<2.11,>=2.10->tensorflow) (1.26.7)\n",
      "Requirement already satisfied: certifi>=2017.4.17 in c:\\users\\user\\anaconda3\\lib\\site-packages (from requests<3,>=2.21.0->tensorboard<2.11,>=2.10->tensorflow) (2021.10.8)\n",
      "Requirement already satisfied: charset-normalizer~=2.0.0 in c:\\users\\user\\anaconda3\\lib\\site-packages (from requests<3,>=2.21.0->tensorboard<2.11,>=2.10->tensorflow) (2.0.4)\n",
      "Requirement already satisfied: idna<4,>=2.5 in c:\\users\\user\\anaconda3\\lib\\site-packages (from requests<3,>=2.21.0->tensorboard<2.11,>=2.10->tensorflow) (3.2)\n",
      "Requirement already satisfied: zipp>=0.5 in c:\\users\\user\\anaconda3\\lib\\site-packages (from importlib-metadata>=4.4->markdown>=2.6.8->tensorboard<2.11,>=2.10->tensorflow) (3.6.0)\n",
      "Requirement already satisfied: pyasn1<0.7.0,>=0.4.6 in c:\\users\\user\\anaconda3\\lib\\site-packages (from pyasn1-modules>=0.2.1->google-auth<3,>=1.6.3->tensorboard<2.11,>=2.10->tensorflow) (0.6.1)\n",
      "Requirement already satisfied: oauthlib>=3.0.0 in c:\\users\\user\\anaconda3\\lib\\site-packages (from requests-oauthlib>=0.7.0->google-auth-oauthlib<0.5,>=0.4.1->tensorboard<2.11,>=2.10->tensorflow) (3.2.2)\n",
      "Requirement already satisfied: numpy in c:\\users\\user\\anaconda3\\lib\\site-packages (1.26.4)\n",
      "Requirement already satisfied: pandas in c:\\users\\user\\anaconda3\\lib\\site-packages (1.3.4)\n",
      "Requirement already satisfied: python-dateutil>=2.7.3 in c:\\users\\user\\anaconda3\\lib\\site-packages (from pandas) (2.8.2)\n",
      "Requirement already satisfied: pytz>=2017.3 in c:\\users\\user\\anaconda3\\lib\\site-packages (from pandas) (2021.3)\n",
      "Requirement already satisfied: numpy>=1.17.3 in c:\\users\\user\\anaconda3\\lib\\site-packages (from pandas) (1.26.4)\n",
      "Requirement already satisfied: six>=1.5 in c:\\users\\user\\anaconda3\\lib\\site-packages (from python-dateutil>=2.7.3->pandas) (1.16.0)\n",
      "Requirement already satisfied: keras in c:\\users\\user\\anaconda3\\lib\\site-packages (2.10.0)\n",
      "Requirement already satisfied: adam in c:\\users\\user\\anaconda3\\lib\\site-packages (0.0.0.dev0)\n"
     ]
    }
   ],
   "source": [
    "!pip install opencv-python\n",
    "!pip install tensorflow  \n",
    "!pip install numpy  \n",
    "!pip install pandas  \n",
    "!pip install keras  \n",
    "!pip install adam  "
   ]
  },
  {
   "cell_type": "code",
   "execution_count": 2,
   "id": "c6ea6050",
   "metadata": {
    "scrolled": true
   },
   "outputs": [
    {
     "name": "stdout",
     "output_type": "stream",
     "text": [
      "Requirement already satisfied: cinit in c:\\users\\user\\anaconda3\\lib\\site-packages (0.1.0)\n"
     ]
    }
   ],
   "source": [
    "!pip install cinit"
   ]
  },
  {
   "cell_type": "code",
   "execution_count": 3,
   "id": "8ad95420",
   "metadata": {},
   "outputs": [],
   "source": [
    "import sys, os  \n",
    "import pandas as pd  \n",
    "import numpy as np  "
   ]
  },
  {
   "cell_type": "code",
   "execution_count": 4,
   "id": "182ec91a",
   "metadata": {},
   "outputs": [],
   "source": [
    "from tensorflow.keras.models import Sequential\n",
    "from tensorflow.keras.layers import Dense, Dropout, Activation, Flatten\n",
    "from tensorflow.keras.layers import Conv2D, MaxPooling2D, BatchNormalization, AveragePooling2D\n",
    "from tensorflow.keras.losses import categorical_crossentropy\n",
    "from tensorflow.keras.optimizers import Adam\n",
    "from tensorflow.keras.regularizers import l2"
   ]
  },
  {
   "cell_type": "code",
   "execution_count": 5,
   "id": "00885e23",
   "metadata": {},
   "outputs": [],
   "source": [
    "from keras.utils import to_categorical"
   ]
  },
  {
   "cell_type": "code",
   "execution_count": 6,
   "id": "b1a817ad",
   "metadata": {},
   "outputs": [],
   "source": [
    "df = pd.read_csv(r'C:\\Users\\user\\Documents\\fer2013.csv')"
   ]
  },
  {
   "cell_type": "code",
   "execution_count": 7,
   "id": "857e8121",
   "metadata": {},
   "outputs": [],
   "source": [
    "X_train,train_y,X_test,test_y=[],[],[],[]  \n",
    "  \n",
    "for index, row in df.iterrows():  \n",
    "    val=row['pixels'].split(\" \")  \n",
    "    try:  \n",
    "        if 'Training' in row['Usage']:  \n",
    "           X_train.append(np.array(val,'float32'))  \n",
    "           train_y.append(row['emotion'])  \n",
    "        elif 'PublicTest' in row['Usage']:  \n",
    "           X_test.append(np.array(val,'float32'))  \n",
    "           test_y.append(row['emotion'])  \n",
    "    except:  \n",
    "        print(f\"error occured at index :{index} and row:{row}\")  \n",
    "  \n",
    "  \n",
    "num_features = 64  \n",
    "num_labels = 7  \n",
    "batch_size = 64  \n",
    "epochs = 30  \n",
    "width, height = 48, 48"
   ]
  },
  {
   "cell_type": "code",
   "execution_count": 9,
   "id": "ef928652",
   "metadata": {},
   "outputs": [],
   "source": [
    "X_train = np.array(X_train,'float32')  \n",
    "train_y = np.array(train_y,'float32')  \n",
    "X_test = np.array(X_test,'float32')  \n",
    "test_y = np.array(test_y,'float32')  \n",
    "  \n",
    "train_y = to_categorical(train_y, num_classes=num_labels)\n",
    "test_y = to_categorical(test_y, num_classes=num_labels)"
   ]
  },
  {
   "cell_type": "code",
   "execution_count": 10,
   "id": "a45b0d00",
   "metadata": {},
   "outputs": [],
   "source": [
    "from tensorflow.keras.utils import to_categorical"
   ]
  },
  {
   "cell_type": "code",
   "execution_count": 11,
   "id": "ff5d58fe",
   "metadata": {},
   "outputs": [],
   "source": [
    "X_train -= np.mean(X_train, axis=0)  \n",
    "X_train /= np.std(X_train, axis=0)"
   ]
  },
  {
   "cell_type": "code",
   "execution_count": 12,
   "id": "d85ae06e",
   "metadata": {},
   "outputs": [],
   "source": [
    "X_test -= np.mean(X_test, axis=0)  \n",
    "X_test /= np.std(X_test, axis=0)  \n",
    "  \n",
    "X_train = X_train.reshape(X_train.shape[0], 48, 48, 1)  \n",
    "  \n",
    "X_test = X_test.reshape(X_test.shape[0], 48, 48, 1)"
   ]
  },
  {
   "cell_type": "code",
   "execution_count": 13,
   "id": "91ff726e",
   "metadata": {},
   "outputs": [],
   "source": [
    "model = Sequential()  "
   ]
  },
  {
   "cell_type": "code",
   "execution_count": 14,
   "id": "895b89a6",
   "metadata": {},
   "outputs": [],
   "source": [
    "model.add(Conv2D(64, kernel_size=(3, 3), activation='relu', input_shape=(X_train.shape[1:])))  \n",
    "model.add(Conv2D(64,kernel_size= (3, 3), activation='relu'))  \n",
    "# model.add(BatchNormalization())  \n",
    "model.add(MaxPooling2D(pool_size=(2,2), strides=(2, 2)))  \n",
    "model.add(Dropout(0.5))"
   ]
  },
  {
   "cell_type": "code",
   "execution_count": 15,
   "id": "6d90f120",
   "metadata": {},
   "outputs": [],
   "source": [
    "#2nd convolution layer  \n",
    "model.add(Conv2D(64, (3, 3), activation='relu'))  \n",
    "model.add(Conv2D(64, (3, 3), activation='relu'))  \n",
    "# model.add(BatchNormalization())  \n",
    "model.add(MaxPooling2D(pool_size=(2,2), strides=(2, 2)))  \n",
    "model.add(Dropout(0.5))"
   ]
  },
  {
   "cell_type": "code",
   "execution_count": 16,
   "id": "5b5325fb",
   "metadata": {},
   "outputs": [],
   "source": [
    "model.add(Conv2D(128, (3, 3), activation='relu'))  \n",
    "model.add(Conv2D(128, (3, 3), activation='relu'))  \n",
    "# model.add(BatchNormalization())  \n",
    "model.add(MaxPooling2D(pool_size=(2,2), strides=(2, 2)))"
   ]
  },
  {
   "cell_type": "code",
   "execution_count": 17,
   "id": "217b1eb5",
   "metadata": {},
   "outputs": [],
   "source": [
    "model.add(Flatten()) "
   ]
  },
  {
   "cell_type": "code",
   "execution_count": 18,
   "id": "c62547ab",
   "metadata": {},
   "outputs": [],
   "source": [
    "#fully connected neural networks  \n",
    "model.add(Dense(1024, activation='relu'))  \n",
    "model.add(Dropout(0.2))  \n",
    "model.add(Dense(1024, activation='relu'))  \n",
    "model.add(Dropout(0.2))  \n",
    "  \n",
    "model.add(Dense(num_labels, activation='softmax'))"
   ]
  },
  {
   "cell_type": "code",
   "execution_count": 19,
   "id": "b2f464e0",
   "metadata": {},
   "outputs": [],
   "source": [
    "model.compile(loss=categorical_crossentropy,  \n",
    "              optimizer=Adam(),  \n",
    "              metrics=['accuracy'])"
   ]
  },
  {
   "cell_type": "code",
   "execution_count": 20,
   "id": "5ea30510",
   "metadata": {
    "scrolled": true
   },
   "outputs": [
    {
     "name": "stdout",
     "output_type": "stream",
     "text": [
      "Epoch 1/30\n",
      "449/449 [==============================] - 483s 1s/step - loss: 1.7125 - accuracy: 0.3028 - val_loss: 1.5373 - val_accuracy: 0.3901\n",
      "Epoch 2/30\n",
      "449/449 [==============================] - 481s 1s/step - loss: 1.5128 - accuracy: 0.4038 - val_loss: 1.4129 - val_accuracy: 0.4511\n",
      "Epoch 3/30\n",
      "449/449 [==============================] - 486s 1s/step - loss: 1.4092 - accuracy: 0.4560 - val_loss: 1.3133 - val_accuracy: 0.4915\n",
      "Epoch 4/30\n",
      "449/449 [==============================] - 482s 1s/step - loss: 1.3475 - accuracy: 0.4784 - val_loss: 1.3063 - val_accuracy: 0.4923\n",
      "Epoch 5/30\n",
      "449/449 [==============================] - 484s 1s/step - loss: 1.3072 - accuracy: 0.4959 - val_loss: 1.2658 - val_accuracy: 0.5088\n",
      "Epoch 6/30\n",
      "449/449 [==============================] - 304s 675ms/step - loss: 1.2618 - accuracy: 0.5164 - val_loss: 1.2530 - val_accuracy: 0.5127\n",
      "Epoch 7/30\n",
      "449/449 [==============================] - 265s 590ms/step - loss: 1.2367 - accuracy: 0.5270 - val_loss: 1.2285 - val_accuracy: 0.5280\n",
      "Epoch 8/30\n",
      "449/449 [==============================] - 299s 666ms/step - loss: 1.2023 - accuracy: 0.5386 - val_loss: 1.2092 - val_accuracy: 0.5380\n",
      "Epoch 9/30\n",
      "449/449 [==============================] - 294s 655ms/step - loss: 1.1843 - accuracy: 0.5453 - val_loss: 1.1939 - val_accuracy: 0.5372\n",
      "Epoch 10/30\n",
      "449/449 [==============================] - 289s 644ms/step - loss: 1.1571 - accuracy: 0.5575 - val_loss: 1.1719 - val_accuracy: 0.5508\n",
      "Epoch 11/30\n",
      "449/449 [==============================] - 291s 647ms/step - loss: 1.1418 - accuracy: 0.5628 - val_loss: 1.1719 - val_accuracy: 0.5503\n",
      "Epoch 12/30\n",
      "449/449 [==============================] - 351s 781ms/step - loss: 1.1214 - accuracy: 0.5714 - val_loss: 1.1775 - val_accuracy: 0.5506\n",
      "Epoch 13/30\n",
      "449/449 [==============================] - 379s 845ms/step - loss: 1.1091 - accuracy: 0.5754 - val_loss: 1.1678 - val_accuracy: 0.5497\n",
      "Epoch 14/30\n",
      "449/449 [==============================] - 327s 727ms/step - loss: 1.0800 - accuracy: 0.5882 - val_loss: 1.1807 - val_accuracy: 0.5481\n",
      "Epoch 15/30\n",
      "449/449 [==============================] - 327s 728ms/step - loss: 1.0659 - accuracy: 0.5925 - val_loss: 1.1586 - val_accuracy: 0.5645\n",
      "Epoch 16/30\n",
      "449/449 [==============================] - 358s 797ms/step - loss: 1.0482 - accuracy: 0.5986 - val_loss: 1.1708 - val_accuracy: 0.5561\n",
      "Epoch 17/30\n",
      "449/449 [==============================] - 356s 794ms/step - loss: 1.0383 - accuracy: 0.6046 - val_loss: 1.1687 - val_accuracy: 0.5623\n",
      "Epoch 18/30\n",
      "449/449 [==============================] - 364s 811ms/step - loss: 1.0193 - accuracy: 0.6136 - val_loss: 1.1630 - val_accuracy: 0.5670\n",
      "Epoch 19/30\n",
      "449/449 [==============================] - 366s 815ms/step - loss: 1.0088 - accuracy: 0.6156 - val_loss: 1.1700 - val_accuracy: 0.5575\n",
      "Epoch 20/30\n",
      "449/449 [==============================] - 321s 714ms/step - loss: 0.9888 - accuracy: 0.6222 - val_loss: 1.1721 - val_accuracy: 0.5553\n",
      "Epoch 21/30\n",
      "449/449 [==============================] - 265s 589ms/step - loss: 0.9772 - accuracy: 0.6307 - val_loss: 1.1635 - val_accuracy: 0.5581\n",
      "Epoch 22/30\n",
      "449/449 [==============================] - 263s 586ms/step - loss: 0.9575 - accuracy: 0.6347 - val_loss: 1.1753 - val_accuracy: 0.5731\n",
      "Epoch 23/30\n",
      "449/449 [==============================] - 258s 574ms/step - loss: 0.9458 - accuracy: 0.6375 - val_loss: 1.1713 - val_accuracy: 0.5712\n",
      "Epoch 24/30\n",
      "449/449 [==============================] - 309s 689ms/step - loss: 0.9217 - accuracy: 0.6442 - val_loss: 1.1776 - val_accuracy: 0.5639\n",
      "Epoch 25/30\n",
      "449/449 [==============================] - 262s 584ms/step - loss: 0.9152 - accuracy: 0.6513 - val_loss: 1.1927 - val_accuracy: 0.5709\n",
      "Epoch 26/30\n",
      "449/449 [==============================] - 260s 580ms/step - loss: 0.9012 - accuracy: 0.6529 - val_loss: 1.1866 - val_accuracy: 0.5581\n",
      "Epoch 27/30\n",
      "449/449 [==============================] - 261s 581ms/step - loss: 0.8787 - accuracy: 0.6639 - val_loss: 1.1758 - val_accuracy: 0.5678\n",
      "Epoch 28/30\n",
      "449/449 [==============================] - 257s 572ms/step - loss: 0.8765 - accuracy: 0.6644 - val_loss: 1.1779 - val_accuracy: 0.5779\n",
      "Epoch 29/30\n",
      "449/449 [==============================] - 265s 589ms/step - loss: 0.8674 - accuracy: 0.6716 - val_loss: 1.1766 - val_accuracy: 0.5734\n",
      "Epoch 30/30\n",
      "449/449 [==============================] - 261s 581ms/step - loss: 0.8386 - accuracy: 0.6791 - val_loss: 1.1890 - val_accuracy: 0.5801\n"
     ]
    },
    {
     "data": {
      "text/plain": [
       "<keras.callbacks.History at 0x201a1236df0>"
      ]
     },
     "execution_count": 20,
     "metadata": {},
     "output_type": "execute_result"
    }
   ],
   "source": [
    "model.fit(X_train, train_y,  \n",
    "          batch_size=batch_size,  \n",
    "          epochs=epochs,  \n",
    "          verbose=1,  \n",
    "          validation_data=(X_test, test_y),  \n",
    "          shuffle=True)"
   ]
  },
  {
   "cell_type": "code",
   "execution_count": 4,
   "id": "c9e43d40",
   "metadata": {},
   "outputs": [],
   "source": [
    "#注意注意注意\n",
    "# 保存整個模型\n",
    "model.save('my_model.h5')"
   ]
  },
  {
   "cell_type": "code",
   "execution_count": 5,
   "id": "56cee788",
   "metadata": {},
   "outputs": [
    {
     "ename": "NameError",
     "evalue": "name 'X_test' is not defined",
     "output_type": "error",
     "traceback": [
      "\u001b[1;31m---------------------------------------------------------------------------\u001b[0m",
      "\u001b[1;31mNameError\u001b[0m                                 Traceback (most recent call last)",
      "\u001b[1;32m~\\AppData\\Local\\Temp/ipykernel_18632/2054907432.py\u001b[0m in \u001b[0;36m<module>\u001b[1;34m\u001b[0m\n\u001b[0;32m      6\u001b[0m \u001b[1;33m\u001b[0m\u001b[0m\n\u001b[0;32m      7\u001b[0m \u001b[1;31m# 使用模型\u001b[0m\u001b[1;33m\u001b[0m\u001b[1;33m\u001b[0m\u001b[0m\n\u001b[1;32m----> 8\u001b[1;33m \u001b[0mpredictions\u001b[0m \u001b[1;33m=\u001b[0m \u001b[0mmodel\u001b[0m\u001b[1;33m.\u001b[0m\u001b[0mpredict\u001b[0m\u001b[1;33m(\u001b[0m\u001b[0mX_test\u001b[0m\u001b[1;33m)\u001b[0m\u001b[1;33m\u001b[0m\u001b[1;33m\u001b[0m\u001b[0m\n\u001b[0m",
      "\u001b[1;31mNameError\u001b[0m: name 'X_test' is not defined"
     ]
    }
   ],
   "source": [
    "#注意注意注意\n",
    "from tensorflow.keras.models import load_model\n",
    "\n",
    "# 載入模型\n",
    "model = load_model('my_model.h5')\n",
    "\n",
    "# 使用模型\n",
    "predictions = model.predict(X_test)"
   ]
  },
  {
   "cell_type": "code",
   "execution_count": 1,
   "id": "4bbad569",
   "metadata": {},
   "outputs": [],
   "source": [
    "import os  \n",
    "import cv2  \n",
    "import numpy as np  \n",
    "from keras.models import model_from_json  \n",
    "from keras.preprocessing import image "
   ]
  },
  {
   "cell_type": "code",
   "execution_count": 2,
   "id": "14e12076",
   "metadata": {},
   "outputs": [
    {
     "ename": "NameError",
     "evalue": "name 'model' is not defined",
     "output_type": "error",
     "traceback": [
      "\u001b[1;31m---------------------------------------------------------------------------\u001b[0m",
      "\u001b[1;31mNameError\u001b[0m                                 Traceback (most recent call last)",
      "\u001b[1;32m~\\AppData\\Local\\Temp/ipykernel_18632/1028941326.py\u001b[0m in \u001b[0;36m<module>\u001b[1;34m\u001b[0m\n\u001b[1;32m----> 1\u001b[1;33m \u001b[0mmodel\u001b[0m\u001b[1;33m.\u001b[0m\u001b[0mload_weights\u001b[0m\u001b[1;33m(\u001b[0m\u001b[1;34m'my_model.h5'\u001b[0m\u001b[1;33m)\u001b[0m\u001b[1;33m\u001b[0m\u001b[1;33m\u001b[0m\u001b[0m\n\u001b[0m",
      "\u001b[1;31mNameError\u001b[0m: name 'model' is not defined"
     ]
    }
   ],
   "source": [
    "model.load_weights('my_model.h5')"
   ]
  },
  {
   "cell_type": "code",
   "execution_count": 6,
   "id": "a0b19685",
   "metadata": {},
   "outputs": [],
   "source": [
    "face_haar_cascade = cv2.CascadeClassifier('haarcascade_frontalface_default.xml')  "
   ]
  },
  {
   "cell_type": "code",
   "execution_count": 7,
   "id": "4b6ea978",
   "metadata": {},
   "outputs": [],
   "source": [
    "cap=cv2.VideoCapture(0)  "
   ]
  },
  {
   "cell_type": "code",
   "execution_count": 8,
   "id": "08140842",
   "metadata": {},
   "outputs": [
    {
     "name": "stdout",
     "output_type": "stream",
     "text": [
      "找到文件：C:/Users\\user\\anaconda3\\Lib\\site-packages\\cv2\\data\\haarcascade_frontalface_default.xml\n"
     ]
    }
   ],
   "source": [
    "import os\n",
    "\n",
    "def find_file(filename, search_path):\n",
    "    for root, dirs, files in os.walk(search_path):\n",
    "        if filename in files:\n",
    "            return os.path.join(root, filename)\n",
    "    return None\n",
    "\n",
    "file_name = 'haarcascade_frontalface_default.xml'\n",
    "search_path = 'C:/'\n",
    "\n",
    "file_path = find_file(file_name, search_path)\n",
    "if file_path:\n",
    "    print(f\"找到文件：{file_path}\")\n",
    "else:\n",
    "    print(\"文件未找到！\")\n"
   ]
  },
  {
   "cell_type": "code",
   "execution_count": 9,
   "id": "3de1eaf6",
   "metadata": {},
   "outputs": [],
   "source": [
    "face_haar_cascade = cv2.CascadeClassifier('C:/Users/user/anaconda3/Lib/site-packages/cv2/data/haarcascade_frontalface_default.xml')"
   ]
  },
  {
   "cell_type": "code",
   "execution_count": null,
   "id": "e2810ecb",
   "metadata": {},
   "outputs": [],
   "source": []
  },
  {
   "cell_type": "code",
   "execution_count": null,
   "id": "d337d66b",
   "metadata": {},
   "outputs": [],
   "source": []
  },
  {
   "cell_type": "code",
   "execution_count": null,
   "id": "c65ebcbd",
   "metadata": {},
   "outputs": [],
   "source": [
    "while True:\n",
    "    ret, test_img = cap.read(0)  # 捕獲攝影機影像\n",
    "    if not ret:\n",
    "        continue\n",
    "    \n",
    "    gray_img = cv2.cvtColor(test_img, cv2.COLOR_BGR2GRAY)\n",
    "    faces_detected = face_haar_cascade.detectMultiScale(gray_img, 1.32, 5)"
   ]
  },
  {
   "cell_type": "code",
   "execution_count": null,
   "id": "8d64d0ad",
   "metadata": {},
   "outputs": [],
   "source": [
    "for (x,y,w,h) in faces_detected:  \n",
    "        cv2.rectangle(test_img,(x,y),(x+w,y+h),(255,0,0),thickness=7)  \n",
    "        roi_gray=gray_img[y:y+w,x:x+h]#cropping region of interest i.e. face area from  image  \n",
    "        roi_gray=cv2.resize(roi_gray,(48,48))  \n",
    "        img_pixels = image.img_to_array(roi_gray)  \n",
    "        img_pixels = np.expand_dims(img_pixels, axis = 0)  \n",
    "        img_pixels /= 255  "
   ]
  },
  {
   "cell_type": "code",
   "execution_count": null,
   "id": "fae8ae32",
   "metadata": {},
   "outputs": [],
   "source": [
    "        predictions = model.predict(img_pixels)  "
   ]
  },
  {
   "cell_type": "code",
   "execution_count": null,
   "id": "2c520e22",
   "metadata": {},
   "outputs": [],
   "source": [
    " #find max indexed array  \n",
    "        max_index = np.argmax(predictions[0])  "
   ]
  },
  {
   "cell_type": "code",
   "execution_count": null,
   "id": "7bbb2fe9",
   "metadata": {},
   "outputs": [],
   "source": [
    "        emotions = ('angry', 'disgust', 'fear', 'happy', 'sad', 'surprise', 'neutral')  \n",
    "        predicted_emotion = emotions[max_index] "
   ]
  },
  {
   "cell_type": "code",
   "execution_count": null,
   "id": "78b16e25",
   "metadata": {},
   "outputs": [],
   "source": [
    "        cv2.putText(test_img, predicted_emotion, (int(x), int(y)), cv2.FONT_HERSHEY_SIMPLEX, 1, (0,0,255), 2)  "
   ]
  },
  {
   "cell_type": "code",
   "execution_count": null,
   "id": "7f1271a5",
   "metadata": {},
   "outputs": [],
   "source": []
  }
 ],
 "metadata": {
  "kernelspec": {
   "display_name": "Python 3 (ipykernel)",
   "language": "python",
   "name": "python3"
  },
  "language_info": {
   "codemirror_mode": {
    "name": "ipython",
    "version": 3
   },
   "file_extension": ".py",
   "mimetype": "text/x-python",
   "name": "python",
   "nbconvert_exporter": "python",
   "pygments_lexer": "ipython3",
   "version": "3.9.7"
  }
 },
 "nbformat": 4,
 "nbformat_minor": 5
}
