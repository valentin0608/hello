{
 "cells": [
  {
   "cell_type": "code",
   "execution_count": 4,
   "id": "5c83bd86-32e0-4637-aa5f-25badead4b7b",
   "metadata": {},
   "outputs": [],
   "source": [
    "#!/usr/bin/env python3\n",
    "# -*- coding: utf-8 -*-\n",
    "import cv2\n",
    "import numpy as np"
   ]
  },
  {
   "cell_type": "code",
   "execution_count": 14,
   "id": "270ff5bc-1dcd-40d2-bf71-53477e8bd25c",
   "metadata": {},
   "outputs": [],
   "source": [
    "image = cv2.imread('C:/Users/user/Downloads/fruits.png')\n",
    "hsv = cv2.cvtColor(image, cv2.COLOR_BGR2HSV)"
   ]
  },
  {
   "cell_type": "code",
   "execution_count": 16,
   "id": "c24616f0-8557-4c3d-9977-a33f2cdfd2a5",
   "metadata": {},
   "outputs": [],
   "source": [
    "lower_green = np.array([35, 43, 46])\n",
    "upper_green = np.array([77, 255, 255])"
   ]
  },
  {
   "cell_type": "code",
   "execution_count": 18,
   "id": "8fd5cd59-385f-4540-9606-7b0c2816443a",
   "metadata": {},
   "outputs": [],
   "source": [
    "mask = cv2.inRange(hsv, lower_green, upper_green)\n",
    "res = cv2.bitwise_and(image, image, mask=mask)"
   ]
  },
  {
   "cell_type": "code",
   "execution_count": null,
   "id": "a8c757ac-6e97-4165-9cce-e0666827925c",
   "metadata": {},
   "outputs": [],
   "source": [
    "cv2.imshow('Input', image)\n",
    "cv2.imshow('Result', res)\n",
    "cv2.waitKey(0)"
   ]
  }
 ],
 "metadata": {
  "kernelspec": {
   "display_name": "Python 3 (ipykernel)",
   "language": "python",
   "name": "python3"
  },
  "language_info": {
   "codemirror_mode": {
    "name": "ipython",
    "version": 3
   },
   "file_extension": ".py",
   "mimetype": "text/x-python",
   "name": "python",
   "nbconvert_exporter": "python",
   "pygments_lexer": "ipython3",
   "version": "3.9.7"
  }
 },
 "nbformat": 4,
 "nbformat_minor": 5
}
